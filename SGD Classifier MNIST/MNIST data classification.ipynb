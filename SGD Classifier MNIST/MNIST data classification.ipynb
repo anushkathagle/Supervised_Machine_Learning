{
 "cells": [
  {
   "cell_type": "code",
   "execution_count": 2,
   "id": "d92f9036",
   "metadata": {},
   "outputs": [],
   "source": [
    "import pandas as pd \n",
    "import numpy as np"
   ]
  },
  {
   "cell_type": "code",
   "execution_count": 3,
   "id": "5a1ad69f",
   "metadata": {},
   "outputs": [],
   "source": [
    "import seaborn as sns\n",
    "import matplotlib.pyplot as plt"
   ]
  },
  {
   "cell_type": "code",
   "execution_count": 4,
   "id": "c4f1c82c",
   "metadata": {},
   "outputs": [],
   "source": [
    "from sklearn.datasets import fetch_openml"
   ]
  },
  {
   "cell_type": "code",
   "execution_count": 5,
   "id": "105fe790",
   "metadata": {},
   "outputs": [],
   "source": [
    "mnist_Df = fetch_openml('mnist_784',version = 1)"
   ]
  },
  {
   "cell_type": "code",
   "execution_count": 6,
   "id": "6c8afdfe",
   "metadata": {},
   "outputs": [
    {
     "data": {
      "text/plain": [
       "dict_keys(['data', 'target', 'frame', 'categories', 'feature_names', 'target_names', 'DESCR', 'details', 'url'])"
      ]
     },
     "execution_count": 6,
     "metadata": {},
     "output_type": "execute_result"
    }
   ],
   "source": [
    "mnist_Df.keys()"
   ]
  },
  {
   "cell_type": "code",
   "execution_count": 7,
   "id": "0b64f4f0",
   "metadata": {},
   "outputs": [],
   "source": [
    "X = mnist_Df['data']\n",
    "Y = mnist_Df['target']"
   ]
  },
  {
   "cell_type": "markdown",
   "id": "30be2046",
   "metadata": {},
   "source": [
    "Now let's try to plot out a random number from our dataset"
   ]
  },
  {
   "cell_type": "code",
   "execution_count": 8,
   "id": "c6988238",
   "metadata": {},
   "outputs": [],
   "source": [
    "some_digit = np.array(X.iloc[4])\n",
    "\n",
    "## Reshaping an array of 784 element into 28 x 28 array \n",
    "some_digit_image = some_digit.reshape(28,28)"
   ]
  },
  {
   "cell_type": "code",
   "execution_count": 9,
   "id": "dfa6057d",
   "metadata": {},
   "outputs": [
    {
     "data": {
      "image/png": "[encoded data removed]",
      "text/plain": [
       "<Figure size 432x288 with 1 Axes>"
      ]
     },
     "metadata": {
      "needs_background": "light"
     },
     "output_type": "display_data"
    }
   ],
   "source": [
    "plt.imshow(some_digit_image, cmap = \"binary\")\n",
    "plt.axis('off')\n",
    "plt.show()"
   ]
  },
  {
   "cell_type": "markdown",
   "id": "7a1c914d",
   "metadata": {},
   "source": [
    "This looks like a 9 let's cross check it with out target value"
   ]
  },
  {
   "cell_type": "code",
   "execution_count": 10,
   "id": "c9089c45",
   "metadata": {},
   "outputs": [
    {
     "data": {
      "text/plain": [
       "'9'"
      ]
     },
     "execution_count": 10,
     "metadata": {},
     "output_type": "execute_result"
    }
   ],
   "source": [
    "Y[4]"
   ]
  },
  {
   "cell_type": "markdown",
   "id": "5ee056fc",
   "metadata": {},
   "source": [
    "It indeed is 9. We can notice that that the target value is in string format and majority of ML algorithm require int type data for training purpose. So we'll convert it into the required data type."
   ]
  },
  {
   "cell_type": "code",
   "execution_count": 11,
   "id": "ea302264",
   "metadata": {},
   "outputs": [],
   "source": [
    "Y = Y.astype(np.uint8)"
   ]
  },
  {
   "cell_type": "markdown",
   "id": "b349bd56",
   "metadata": {},
   "source": [
    "Before further analyzing our data we need to seperate our data set and keep it aside. Since in the description it is mentioned that this dataset is already split into test and train datasets all we need to do is seperatly assign it to the variables."
   ]
  },
  {
   "cell_type": "code",
   "execution_count": 12,
   "id": "5e5b5366",
   "metadata": {},
   "outputs": [],
   "source": [
    "X_train, X_test, y_train, y_test = X[:60000],X[60000:],Y[:60000],Y[60000:]"
   ]
  },
  {
   "cell_type": "code",
   "execution_count": 13,
   "id": "d4651f68",
   "metadata": {},
   "outputs": [
    {
     "data": {
      "text/plain": [
       "(60000, 784)"
      ]
     },
     "execution_count": 13,
     "metadata": {},
     "output_type": "execute_result"
    }
   ],
   "source": [
    "X_train.shape"
   ]
  },
  {
   "cell_type": "code",
   "execution_count": 14,
   "id": "5306d2ff",
   "metadata": {},
   "outputs": [
    {
     "data": {
      "text/plain": [
       "(60000,)"
      ]
     },
     "execution_count": 14,
     "metadata": {},
     "output_type": "execute_result"
    }
   ],
   "source": [
    "y_train.shape"
   ]
  },
  {
   "cell_type": "markdown",
   "id": "9b405bda",
   "metadata": {},
   "source": [
    "First let's try creating a binary classifier for our random digit."
   ]
  },
  {
   "cell_type": "markdown",
   "id": "b9bee1dd",
   "metadata": {},
   "source": [
    "## Binary Classifier\n",
    "9 detector"
   ]
  },
  {
   "cell_type": "code",
   "execution_count": 15,
   "id": "5b0bd23f",
   "metadata": {},
   "outputs": [],
   "source": [
    "from sklearn.linear_model import SGDClassifier"
   ]
  },
  {
   "cell_type": "code",
   "execution_count": 16,
   "id": "f15541be",
   "metadata": {},
   "outputs": [],
   "source": [
    "### when we use SGD optimiser it applies SVM classifier by default\n",
    "sgd_clf = SGDClassifier(random_state=42)"
   ]
  },
  {
   "cell_type": "code",
   "execution_count": 17,
   "id": "03d22f1d",
   "metadata": {},
   "outputs": [],
   "source": [
    "y_train_9 = (y_train == 9)"
   ]
  },
  {
   "cell_type": "code",
   "execution_count": 18,
   "id": "10a3885e",
   "metadata": {},
   "outputs": [
    {
     "data": {
      "text/plain": [
       "0        False\n",
       "1        False\n",
       "2        False\n",
       "3        False\n",
       "4         True\n",
       "         ...  \n",
       "59995    False\n",
       "59996    False\n",
       "59997    False\n",
       "59998    False\n",
       "59999    False\n",
       "Name: class, Length: 60000, dtype: bool"
      ]
     },
     "execution_count": 18,
     "metadata": {},
     "output_type": "execute_result"
    }
   ],
   "source": [
    "y_train_9"
   ]
  },
  {
   "cell_type": "code",
   "execution_count": 19,
   "id": "221ad3da",
   "metadata": {},
   "outputs": [
    {
     "data": {
      "text/plain": [
       "SGDClassifier(random_state=42)"
      ]
     },
     "execution_count": 19,
     "metadata": {},
     "output_type": "execute_result"
    }
   ],
   "source": [
    "sgd_clf.fit(X_train,y_train_9)"
   ]
  },
  {
   "cell_type": "code",
   "execution_count": 20,
   "id": "33c44a79",
   "metadata": {},
   "outputs": [
    {
     "data": {
      "text/plain": [
       "array([ True])"
      ]
     },
     "execution_count": 20,
     "metadata": {},
     "output_type": "execute_result"
    }
   ],
   "source": [
    "sgd_clf.predict([some_digit])"
   ]
  },
  {
   "cell_type": "code",
   "execution_count": 21,
   "id": "4132a187",
   "metadata": {},
   "outputs": [],
   "source": [
    "from sklearn.model_selection import cross_val_score,cross_val_predict"
   ]
  },
  {
   "cell_type": "code",
   "execution_count": 22,
   "id": "d0657409",
   "metadata": {},
   "outputs": [
    {
     "data": {
      "text/plain": [
       "array([0.9456 , 0.95195, 0.9509 ])"
      ]
     },
     "execution_count": 22,
     "metadata": {},
     "output_type": "execute_result"
    }
   ],
   "source": [
    "### When we use a int/none for cv and estimator is performing binary or multiclass classification Stratified K is used\n",
    "cross_val_score(estimator=sgd_clf,X=X_train,y=y_train_9,cv=3,scoring='accuracy')"
   ]
  },
  {
   "cell_type": "markdown",
   "id": "e2eef54b",
   "metadata": {},
   "source": [
    "**Accuracy of 95% seems like our classifier is nearly perfect. But let's check it with a very dumb classifier which predicts always predicts image as not 9.**"
   ]
  },
  {
   "cell_type": "code",
   "execution_count": 23,
   "id": "b2b278ce",
   "metadata": {},
   "outputs": [],
   "source": [
    "from sklearn.base import BaseEstimator"
   ]
  },
  {
   "cell_type": "code",
   "execution_count": 24,
   "id": "62681228",
   "metadata": {},
   "outputs": [],
   "source": [
    "class dumb_classifier(BaseEstimator):\n",
    "    def fit(self, X, y=None):\n",
    "        pass\n",
    "    def predict(self, X):\n",
    "        return np.zeros((len(X),1),dtype = bool)"
   ]
  },
  {
   "cell_type": "code",
   "execution_count": 26,
   "id": "5ecaffbe",
   "metadata": {},
   "outputs": [],
   "source": [
    "never_5 = dumb_classifier()"
   ]
  },
  {
   "cell_type": "code",
   "execution_count": 27,
   "id": "76b4162c",
   "metadata": {},
   "outputs": [],
   "source": [
    "dumb_score = cross_val_score(estimator=never_5,X=X_train,y=y_train_9,cv=3,scoring='accuracy')"
   ]
  },
  {
   "cell_type": "code",
   "execution_count": 28,
   "id": "cc7e1bc7",
   "metadata": {},
   "outputs": [
    {
     "data": {
      "text/plain": [
       "array([0.8993 , 0.8999 , 0.90335])"
      ]
     },
     "execution_count": 28,
     "metadata": {},
     "output_type": "execute_result"
    }
   ],
   "source": [
    "dumb_score"
   ]
  },
  {
   "cell_type": "markdown",
   "id": "8cee7fed",
   "metadata": {},
   "source": [
    "**Nearly 90% accuracy. This shows that 9 makes up 10% of our data set so if we always classify as not 9 we will be right 90% of time. Thus accuracy is not the right model evaluation technique.**"
   ]
  },
  {
   "cell_type": "code",
   "execution_count": 29,
   "id": "136f8b53",
   "metadata": {},
   "outputs": [
    {
     "data": {
      "text/plain": [
       "False    54051\n",
       "True      5949\n",
       "Name: class, dtype: int64"
      ]
     },
     "execution_count": 29,
     "metadata": {},
     "output_type": "execute_result"
    }
   ],
   "source": [
    "y_train_9.value_counts()"
   ]
  },
  {
   "cell_type": "code",
   "execution_count": 97,
   "id": "c6cc834d",
   "metadata": {},
   "outputs": [],
   "source": [
    "y_train_pred = cross_val_predict(sgd_clf,X_train,y_train_9,cv=5)"
   ]
  },
  {
   "cell_type": "code",
   "execution_count": 33,
   "id": "84a440ef",
   "metadata": {},
   "outputs": [],
   "source": [
    "from sklearn.metrics import confusion_matrix,classification_report"
   ]
  },
  {
   "cell_type": "code",
   "execution_count": 36,
   "id": "91655a39",
   "metadata": {},
   "outputs": [
    {
     "data": {
      "text/plain": [
       "array([[52715,  1336],\n",
       "       [ 1695,  4254]])"
      ]
     },
     "execution_count": 36,
     "metadata": {},
     "output_type": "execute_result"
    }
   ],
   "source": [
    "confusion_matrix(y_train_9,y_train_pred)"
   ]
  },
  {
   "cell_type": "code",
   "execution_count": 98,
   "id": "9ee572af",
   "metadata": {},
   "outputs": [
    {
     "name": "stdout",
     "output_type": "stream",
     "text": [
      "              precision    recall  f1-score   support\n",
      "\n",
      "       False       0.97      0.97      0.97     54051\n",
      "        True       0.72      0.74      0.73      5949\n",
      "\n",
      "    accuracy                           0.95     60000\n",
      "   macro avg       0.84      0.86      0.85     60000\n",
      "weighted avg       0.95      0.95      0.95     60000\n",
      "\n"
     ]
    }
   ],
   "source": [
    "print(classification_report(y_train_9,y_train_pred))"
   ]
  },
  {
   "cell_type": "markdown",
   "id": "b5e6f3b0",
   "metadata": {},
   "source": [
    "**When our classifier claims an image represents a 9, it is correct only 72% of the time. Moreover, it only detects 74% of the 9s.**"
   ]
  },
  {
   "cell_type": "markdown",
   "id": "559831b9",
   "metadata": {},
   "source": [
    "### Precision Recall Curve"
   ]
  },
  {
   "cell_type": "markdown",
   "id": "1cb42f09",
   "metadata": {},
   "source": [
    "**Let's try to improve the precision of our Stochastic gradient classifier by determining the appropriate threshold value buy drawing precision recall curve.**"
   ]
  },
  {
   "cell_type": "code",
   "execution_count": 38,
   "id": "d123caff",
   "metadata": {},
   "outputs": [],
   "source": [
    "y_train_score = cross_val_predict(sgd_clf,X_train,y_train_9,cv=3,method='decision_function')"
   ]
  },
  {
   "cell_type": "code",
   "execution_count": 72,
   "id": "0f881c26",
   "metadata": {},
   "outputs": [
    {
     "data": {
      "text/plain": [
       "array([-23009.36445429, -18436.99768895, -15940.48683084, ...,\n",
       "       -30278.93992241, -28156.99780661,  -6860.27399688])"
      ]
     },
     "execution_count": 72,
     "metadata": {},
     "output_type": "execute_result"
    }
   ],
   "source": [
    "y_train_score"
   ]
  },
  {
   "cell_type": "code",
   "execution_count": 39,
   "id": "9afd188a",
   "metadata": {},
   "outputs": [],
   "source": [
    "from sklearn.metrics import precision_recall_curve"
   ]
  },
  {
   "cell_type": "code",
   "execution_count": 40,
   "id": "ab924619",
   "metadata": {},
   "outputs": [],
   "source": [
    "precision, recall, thresholds = precision_recall_curve(y_train_9, y_train_score)"
   ]
  },
  {
   "cell_type": "code",
   "execution_count": 58,
   "id": "59012f76",
   "metadata": {},
   "outputs": [
    {
     "data": {
      "image/png": "[encoded data removed]",
      "text/plain": [
       "<Figure size 720x504 with 1 Axes>"
      ]
     },
     "metadata": {
      "needs_background": "light"
     },
     "output_type": "display_data"
    }
   ],
   "source": [
    "plt.figure(figsize=(10,7))\n",
    "plt.plot(thresholds,precision[:-1], label = 'Precision')\n",
    "plt.plot(thresholds,recall[:-1],label = 'Recall')\n",
    "plt.legend(loc = \"center left\")\n",
    "plt.show()"
   ]
  },
  {
   "cell_type": "code",
   "execution_count": 60,
   "id": "ba90a71b",
   "metadata": {},
   "outputs": [
    {
     "data": {
      "text/plain": [
       "[<matplotlib.lines.Line2D at 0x7fa980f5bfd0>]"
      ]
     },
     "execution_count": 60,
     "metadata": {},
     "output_type": "execute_result"
    },
    {
     "data": {
      "image/png": "[encoded data removed]",
      "text/plain": [
       "<Figure size 720x576 with 1 Axes>"
      ]
     },
     "metadata": {
      "needs_background": "light"
     },
     "output_type": "display_data"
    }
   ],
   "source": [
    "plt.figure(figsize=(10,8))\n",
    "plt.plot(recall,precision)"
   ]
  },
  {
   "cell_type": "code",
   "execution_count": 66,
   "id": "f75d5906",
   "metadata": {},
   "outputs": [],
   "source": [
    "max_thresh = thresholds[np.argmax(precision>=0.90)]"
   ]
  },
  {
   "cell_type": "code",
   "execution_count": 67,
   "id": "d9fc0216",
   "metadata": {},
   "outputs": [
    {
     "data": {
      "text/plain": [
       "4255.5613542876035"
      ]
     },
     "execution_count": 67,
     "metadata": {},
     "output_type": "execute_result"
    }
   ],
   "source": [
    "max_thresh"
   ]
  },
  {
   "cell_type": "code",
   "execution_count": 68,
   "id": "91127859",
   "metadata": {},
   "outputs": [],
   "source": [
    "y_train_pred_90 = (y_train_score > max_thresh)"
   ]
  },
  {
   "cell_type": "code",
   "execution_count": 69,
   "id": "95d527f7",
   "metadata": {},
   "outputs": [
    {
     "name": "stdout",
     "output_type": "stream",
     "text": [
      "              precision    recall  f1-score   support\n",
      "\n",
      "       False       0.93      1.00      0.96     54051\n",
      "        True       0.90      0.35      0.50      5949\n",
      "\n",
      "    accuracy                           0.93     60000\n",
      "   macro avg       0.92      0.67      0.73     60000\n",
      "weighted avg       0.93      0.93      0.92     60000\n",
      "\n"
     ]
    }
   ],
   "source": [
    "print(classification_report(y_train_9,y_train_pred_90))"
   ]
  },
  {
   "cell_type": "markdown",
   "id": "cfd24fe0",
   "metadata": {},
   "source": [
    "We were successfully able to achieve 90% precision for our model but our recall is extreamly low "
   ]
  },
  {
   "cell_type": "markdown",
   "id": "0d902d20",
   "metadata": {},
   "source": [
    "### ROC Curve"
   ]
  },
  {
   "cell_type": "code",
   "execution_count": 78,
   "id": "1ce2525e",
   "metadata": {},
   "outputs": [],
   "source": [
    "from sklearn.metrics import roc_curve,roc_auc_score"
   ]
  },
  {
   "cell_type": "code",
   "execution_count": 74,
   "id": "780a292b",
   "metadata": {},
   "outputs": [],
   "source": [
    "fpr, tpr, threshold = roc_curve(y_train_9,y_train_score)"
   ]
  },
  {
   "cell_type": "code",
   "execution_count": 77,
   "id": "1f675511",
   "metadata": {},
   "outputs": [
    {
     "data": {
      "text/plain": [
       "[<matplotlib.lines.Line2D at 0x7fa9812d9160>]"
      ]
     },
     "execution_count": 77,
     "metadata": {},
     "output_type": "execute_result"
    },
    {
     "data": {
      "image/png": "[encoded data removed]",
      "text/plain": [
       "<Figure size 720x576 with 1 Axes>"
      ]
     },
     "metadata": {
      "needs_background": "light"
     },
     "output_type": "display_data"
    }
   ],
   "source": [
    "plt.figure(figsize=(10,8))\n",
    "plt.plot(fpr,tpr)\n",
    "plt.plot([0,1],[0,1],'--')"
   ]
  },
  {
   "cell_type": "code",
   "execution_count": 79,
   "id": "11f74b1b",
   "metadata": {},
   "outputs": [
    {
     "data": {
      "text/plain": [
       "0.96114559368217"
      ]
     },
     "execution_count": 79,
     "metadata": {},
     "output_type": "execute_result"
    }
   ],
   "source": [
    "roc_auc_score(y_train_9,y_train_score)"
   ]
  },
  {
   "cell_type": "markdown",
   "id": "6abe5bb3",
   "metadata": {},
   "source": [
    "**A good model/classifier has area under curve = 1 our model's area is close to one but we should try other classifier which might have aoc closer to 1.**"
   ]
  },
  {
   "cell_type": "code",
   "execution_count": 80,
   "id": "1317a71e",
   "metadata": {},
   "outputs": [],
   "source": [
    "from sklearn.ensemble import RandomForestClassifier"
   ]
  },
  {
   "cell_type": "code",
   "execution_count": 81,
   "id": "daa6c34d",
   "metadata": {},
   "outputs": [],
   "source": [
    "rfc = RandomForestClassifier(random_state=42)"
   ]
  },
  {
   "cell_type": "code",
   "execution_count": 82,
   "id": "32e1ab7c",
   "metadata": {},
   "outputs": [],
   "source": [
    "rfc_scores = cross_val_predict(rfc,X_train,y_train_9,cv=3,method='predict_proba')"
   ]
  },
  {
   "cell_type": "code",
   "execution_count": 88,
   "id": "a64fcf1a",
   "metadata": {},
   "outputs": [],
   "source": [
    "rfc_9_score = rfc_scores[:,1]"
   ]
  },
  {
   "cell_type": "markdown",
   "id": "3a44cf0e",
   "metadata": {},
   "source": [
    "**Looks like aoc value for a random forest classifier is closer to one compared to our stocastic gradient decent classifier based on support vector machine**"
   ]
  },
  {
   "cell_type": "code",
   "execution_count": 89,
   "id": "00dfe28e",
   "metadata": {},
   "outputs": [
    {
     "data": {
      "text/plain": [
       "0.9952328942154235"
      ]
     },
     "execution_count": 89,
     "metadata": {},
     "output_type": "execute_result"
    }
   ],
   "source": [
    "roc_auc_score(y_train_9,rfc_9_score)"
   ]
  },
  {
   "cell_type": "code",
   "execution_count": 90,
   "id": "1b90d72f",
   "metadata": {},
   "outputs": [],
   "source": [
    "rfc_predict = cross_val_predict(rfc,X_train,y_train_9,cv=3)"
   ]
  },
  {
   "cell_type": "code",
   "execution_count": 91,
   "id": "cdedca22",
   "metadata": {},
   "outputs": [
    {
     "name": "stdout",
     "output_type": "stream",
     "text": [
      "              precision    recall  f1-score   support\n",
      "\n",
      "       False       0.98      1.00      0.99     54051\n",
      "        True       0.98      0.84      0.91      5949\n",
      "\n",
      "    accuracy                           0.98     60000\n",
      "   macro avg       0.98      0.92      0.95     60000\n",
      "weighted avg       0.98      0.98      0.98     60000\n",
      "\n"
     ]
    }
   ],
   "source": [
    "print(classification_report(y_train_9,rfc_predict))"
   ]
  },
  {
   "cell_type": "markdown",
   "id": "c3ed4453",
   "metadata": {},
   "source": [
    "## Multiclass Classification"
   ]
  },
  {
   "cell_type": "markdown",
   "id": "75b0cbe5",
   "metadata": {},
   "source": [
    "**Let's first try our classification model with cross validation data and then use the most suitable model to make prediction on our final test set**"
   ]
  },
  {
   "cell_type": "code",
   "execution_count": 92,
   "id": "4818aa9a",
   "metadata": {},
   "outputs": [],
   "source": [
    "rfc_multi_score = cross_val_predict(rfc,X_train,y_train,cv = 5)"
   ]
  },
  {
   "cell_type": "code",
   "execution_count": 94,
   "id": "99225ef1",
   "metadata": {},
   "outputs": [
    {
     "name": "stdout",
     "output_type": "stream",
     "text": [
      "              precision    recall  f1-score   support\n",
      "\n",
      "           0       0.98      0.99      0.98      5923\n",
      "           1       0.98      0.98      0.98      6742\n",
      "           2       0.96      0.97      0.96      5958\n",
      "           3       0.96      0.95      0.95      6131\n",
      "           4       0.96      0.97      0.97      5842\n",
      "           5       0.97      0.96      0.96      5421\n",
      "           6       0.98      0.98      0.98      5918\n",
      "           7       0.97      0.96      0.97      6265\n",
      "           8       0.95      0.95      0.95      5851\n",
      "           9       0.95      0.95      0.95      5949\n",
      "\n",
      "    accuracy                           0.97     60000\n",
      "   macro avg       0.97      0.97      0.97     60000\n",
      "weighted avg       0.97      0.97      0.97     60000\n",
      "\n"
     ]
    }
   ],
   "source": [
    "print(classification_report(y_train,rfc_multi_score))"
   ]
  },
  {
   "cell_type": "code",
   "execution_count": 95,
   "id": "fb9a8f27",
   "metadata": {},
   "outputs": [],
   "source": [
    "sgd_multi_pred = cross_val_predict(sgd_clf,X_train,y_train,cv = 5)"
   ]
  },
  {
   "cell_type": "code",
   "execution_count": 96,
   "id": "b45392bc",
   "metadata": {},
   "outputs": [
    {
     "name": "stdout",
     "output_type": "stream",
     "text": [
      "              precision    recall  f1-score   support\n",
      "\n",
      "           0       0.94      0.95      0.94      5923\n",
      "           1       0.93      0.96      0.95      6742\n",
      "           2       0.88      0.86      0.87      5958\n",
      "           3       0.87      0.84      0.86      6131\n",
      "           4       0.88      0.88      0.88      5842\n",
      "           5       0.83      0.81      0.82      5421\n",
      "           6       0.92      0.94      0.93      5918\n",
      "           7       0.91      0.89      0.90      6265\n",
      "           8       0.81      0.80      0.80      5851\n",
      "           9       0.82      0.84      0.83      5949\n",
      "\n",
      "    accuracy                           0.88     60000\n",
      "   macro avg       0.88      0.88      0.88     60000\n",
      "weighted avg       0.88      0.88      0.88     60000\n",
      "\n"
     ]
    }
   ],
   "source": [
    "print(classification_report(y_train,sgd_multi_pred))"
   ]
  },
  {
   "cell_type": "markdown",
   "id": "1c269fe6",
   "metadata": {},
   "source": [
    "Clearly random forest classifier is much better for the classification purpose as it provides high precision for each class as well as good precision."
   ]
  },
  {
   "cell_type": "code",
   "execution_count": 100,
   "id": "fac1cf35",
   "metadata": {},
   "outputs": [
    {
     "data": {
      "text/plain": [
       "RandomForestClassifier(random_state=42)"
      ]
     },
     "execution_count": 100,
     "metadata": {},
     "output_type": "execute_result"
    }
   ],
   "source": [
    "rfc.fit(X_train,y_train)"
   ]
  },
  {
   "cell_type": "code",
   "execution_count": 102,
   "id": "0c684a36",
   "metadata": {},
   "outputs": [],
   "source": [
    "rfc_prediction  = rfc.predict(X_test)"
   ]
  },
  {
   "cell_type": "code",
   "execution_count": 103,
   "id": "a1ee0bcb",
   "metadata": {},
   "outputs": [
    {
     "name": "stdout",
     "output_type": "stream",
     "text": [
      "              precision    recall  f1-score   support\n",
      "\n",
      "           0       0.97      0.99      0.98       980\n",
      "           1       0.99      0.99      0.99      1135\n",
      "           2       0.96      0.97      0.97      1032\n",
      "           3       0.96      0.96      0.96      1010\n",
      "           4       0.97      0.97      0.97       982\n",
      "           5       0.98      0.96      0.97       892\n",
      "           6       0.98      0.98      0.98       958\n",
      "           7       0.97      0.96      0.97      1028\n",
      "           8       0.96      0.95      0.96       974\n",
      "           9       0.96      0.95      0.96      1009\n",
      "\n",
      "    accuracy                           0.97     10000\n",
      "   macro avg       0.97      0.97      0.97     10000\n",
      "weighted avg       0.97      0.97      0.97     10000\n",
      "\n"
     ]
    }
   ],
   "source": [
    "print(classification_report(y_test,rfc_prediction))"
   ]
  },
  {
   "cell_type": "markdown",
   "id": "93db4bfa",
   "metadata": {},
   "source": [
    "### Finall Report on our random forest classification model looks good!!"
   ]
  }
 ],
 "metadata": {
  "kernelspec": {
   "display_name": "Python 3 (ipykernel)",
   "language": "python",
   "name": "python3"
  },
  "language_info": {
   "codemirror_mode": {
    "name": "ipython",
    "version": 3
   },
   "file_extension": ".py",
   "mimetype": "text/x-python",
   "name": "python",
   "nbconvert_exporter": "python",
   "pygments_lexer": "ipython3",
   "version": "3.12.7"
  }
 },
 "nbformat": 4,
 "nbformat_minor": 5
}
